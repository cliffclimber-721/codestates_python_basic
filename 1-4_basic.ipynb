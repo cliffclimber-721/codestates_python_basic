{
 "cells": [
  {
   "cell_type": "markdown",
   "id": "d547b165",
   "metadata": {},
   "source": [
    "# 1-4 basic 과제"
   ]
  },
  {
   "cell_type": "markdown",
   "id": "69bdf560",
   "metadata": {},
   "source": [
    "### [Q1] 리스트로 부서 내 사원들을 한 번에 모아서 출력해주세요."
   ]
  },
  {
   "cell_type": "markdown",
   "id": "550b7524",
   "metadata": {},
   "source": [
    "#### [Q1-1] my_team 리스트에 위 세 명의 사원을 저장해주세요."
   ]
  },
  {
   "cell_type": "code",
   "execution_count": 1,
   "id": "40894c60",
   "metadata": {},
   "outputs": [],
   "source": [
    "my_team = ['김단풍', '이버들', '박바오밥']"
   ]
  },
  {
   "cell_type": "markdown",
   "id": "03facd3d",
   "metadata": {},
   "source": [
    "#### [Q1-2] my_team 리스트를 출력해주세요."
   ]
  },
  {
   "cell_type": "code",
   "execution_count": 2,
   "id": "22c35fbd",
   "metadata": {},
   "outputs": [
    {
     "name": "stdout",
     "output_type": "stream",
     "text": [
      "['김단풍', '이버들', '박바오밥']\n"
     ]
    }
   ],
   "source": [
    "print(my_team)"
   ]
  },
  {
   "cell_type": "markdown",
   "id": "aaeed1be",
   "metadata": {},
   "source": [
    "### [Q2] 튜플을 이용해 순서가 변하지 않게 데이터를 표현해보아요."
   ]
  },
  {
   "cell_type": "markdown",
   "id": "6c7ecf70",
   "metadata": {},
   "source": [
    "#### [Q2-1] 박바오밥사원의 이름과 성을 나누어 튜플데이터로 만들고, name변수에 저장해주세요."
   ]
  },
  {
   "cell_type": "code",
   "execution_count": 3,
   "id": "dbeb0ba4",
   "metadata": {},
   "outputs": [],
   "source": [
    "name = (\"박\", \"바오밥\")"
   ]
  },
  {
   "cell_type": "markdown",
   "id": "ba19bf1f",
   "metadata": {},
   "source": [
    "#### [Q2-2] 앞에서 저장한 name 변수를 아래 예시 포맷에 맞춰 출력해주세요."
   ]
  },
  {
   "cell_type": "markdown",
   "id": "c1483269",
   "metadata": {},
   "source": [
    "ex ) 박바오밥 사원의 성은 박 이고, 이름은 바오밥 임이 확실해."
   ]
  },
  {
   "cell_type": "code",
   "execution_count": 4,
   "id": "8a6aa2e4",
   "metadata": {},
   "outputs": [
    {
     "name": "stdout",
     "output_type": "stream",
     "text": [
      "박바오밥 사원의 성은 박 이고, 이름은 바오밥 임이 확실해.\n"
     ]
    }
   ],
   "source": [
    "print(my_team[2], \"사원의 성은\", name[0], \"이고, 이름은\", name[1], \"임이 확실해.\")"
   ]
  },
  {
   "cell_type": "markdown",
   "id": "06b198e4",
   "metadata": {},
   "source": [
    "#### [Q2-3] 김단풍, 이버들, 박바오밥 세 명의 사원을 성과 이름이 구분되게 [성][이름] 순으로 튜플로 표현한 뒤 my_team2 변수에 저장해주세요."
   ]
  },
  {
   "cell_type": "code",
   "execution_count": 8,
   "id": "db8cfc73",
   "metadata": {},
   "outputs": [],
   "source": [
    "my_team2 = (\"김\", \"단풍\"), (\"이\", \"버들\"), (\"박\", \"바오밥\")"
   ]
  },
  {
   "cell_type": "markdown",
   "id": "70a34035",
   "metadata": {},
   "source": [
    "#### [Q2-4] 앞에서 저장한 my_team2 변수를 출력해주세요."
   ]
  },
  {
   "cell_type": "code",
   "execution_count": 9,
   "id": "8d73a81a",
   "metadata": {},
   "outputs": [
    {
     "name": "stdout",
     "output_type": "stream",
     "text": [
      "[('김', '단풍'), ('이', '버들'), ('박', '바오밥')]\n"
     ]
    }
   ],
   "source": [
    "print(list(my_team2))"
   ]
  },
  {
   "cell_type": "markdown",
   "id": "42746b4a",
   "metadata": {},
   "source": [
    "### [Q3] 딕셔너리를 이용해 사원들의 이름을 구분해주세요."
   ]
  },
  {
   "cell_type": "markdown",
   "id": "80c3d8ab",
   "metadata": {},
   "source": [
    "#### [Q3-1] 딕셔너리 이름 key의 value에 Blossom을, 또 다른 성 key의 value에 May를 할당한 뒤 name2 변수에 저장해주세요."
   ]
  },
  {
   "cell_type": "code",
   "execution_count": 10,
   "id": "6e9c462d",
   "metadata": {},
   "outputs": [],
   "source": [
    "name2 = { \"이름\" : \"Blossom\", \"성\" : \"May\" }"
   ]
  },
  {
   "cell_type": "markdown",
   "id": "cf69386d",
   "metadata": {},
   "source": [
    "#### [Q3-2] 위에서 저장한 name2 변수를 출력해주세요."
   ]
  },
  {
   "cell_type": "code",
   "execution_count": 11,
   "id": "7ed04a42",
   "metadata": {},
   "outputs": [
    {
     "name": "stdout",
     "output_type": "stream",
     "text": [
      "{'이름': 'Blossom', '성': 'May'}\n"
     ]
    }
   ],
   "source": [
    "print(name2)"
   ]
  },
  {
   "cell_type": "markdown",
   "id": "b661d9b4",
   "metadata": {},
   "source": [
    "#### [Q3-3] 김단풍, 이버들, 박바오밥, Blossom May 네 명의 사원을 성, 이름 필드를 가진 딕셔너리로 표현한 뒤 my_team3 변수에 저장해주세요."
   ]
  },
  {
   "cell_type": "code",
   "execution_count": 15,
   "id": "c23ff0cb",
   "metadata": {},
   "outputs": [],
   "source": [
    "my_team3 = [\n",
    "    { \"성\" : \"김\", \"이름\" : \"단풍\"},\n",
    "    { \"성\" : \"이\", \"이름\" : \"버들\"},\n",
    "    { \"성\" : \"박\", \"이름\" : \"바오밥\"},\n",
    "    { \"성\" : \"May\", \"이름\" : \"Blossom\"}\n",
    "    ]"
   ]
  },
  {
   "cell_type": "markdown",
   "id": "2212d8a1",
   "metadata": {},
   "source": [
    "#### [Q3-4] 위에서 저장한 my_team3 변수를 출력해주세요."
   ]
  },
  {
   "cell_type": "code",
   "execution_count": 16,
   "id": "a595db4e",
   "metadata": {},
   "outputs": [
    {
     "name": "stdout",
     "output_type": "stream",
     "text": [
      "[{'성': '김', '이름': '단풍'}, {'성': '이', '이름': '버들'}, {'성': '박', '이름': '바오밥'}, {'성': 'May', '이름': 'Blossom'}]\n"
     ]
    }
   ],
   "source": [
    "print(my_team3)"
   ]
  }
 ],
 "metadata": {
  "kernelspec": {
   "display_name": "Python 3 (ipykernel)",
   "language": "python",
   "name": "python3"
  },
  "language_info": {
   "codemirror_mode": {
    "name": "ipython",
    "version": 3
   },
   "file_extension": ".py",
   "mimetype": "text/x-python",
   "name": "python",
   "nbconvert_exporter": "python",
   "pygments_lexer": "ipython3",
   "version": "3.10.6"
  }
 },
 "nbformat": 4,
 "nbformat_minor": 5
}
