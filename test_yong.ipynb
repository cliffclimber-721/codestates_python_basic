{
 "cells": [
  {
   "cell_type": "code",
   "execution_count": 64,
   "id": "fa1cc1cb",
   "metadata": {},
   "outputs": [
    {
     "name": "stdout",
     "output_type": "stream",
     "text": [
      "60\n",
      "70\n",
      "70\n",
      "100\n",
      "90\n"
     ]
    }
   ],
   "source": [
    "scores = [60, 70, 70, 100, 90]\n",
    "\n",
    "for score in scores:\n",
    "    print(score)"
   ]
  },
  {
   "cell_type": "code",
   "execution_count": 68,
   "id": "290a19f8",
   "metadata": {},
   "outputs": [
    {
     "name": "stdout",
     "output_type": "stream",
     "text": [
      "1 : 60\n",
      "2 : 70\n",
      "3 : 70\n",
      "4 : 100\n",
      "5 : 90\n"
     ]
    }
   ],
   "source": [
    "score_list = 0\n",
    "while score_list < len(scores):\n",
    "    print(score_list + 1, \":\", scores[score_list])\n",
    "    score_list += 1"
   ]
  },
  {
   "cell_type": "code",
   "execution_count": 61,
   "id": "832b1feb",
   "metadata": {},
   "outputs": [],
   "source": [
    "def solution(n):\n",
    "    ans = []\n",
    "    for i in range(n+1):\n",
    "        if i % 2 == 1:\n",
    "            ans.append(i)\n",
    "    return ans"
   ]
  },
  {
   "cell_type": "code",
   "execution_count": 62,
   "id": "56cc1b51",
   "metadata": {},
   "outputs": [
    {
     "name": "stdout",
     "output_type": "stream",
     "text": [
      "[1, 3, 5, 7, 9, 11, 13, 15]\n"
     ]
    }
   ],
   "source": [
    "print(solution(15))"
   ]
  },
  {
   "cell_type": "code",
   "execution_count": 69,
   "id": "bbbedf4d",
   "metadata": {},
   "outputs": [
    {
     "name": "stdout",
     "output_type": "stream",
     "text": [
      "b\n",
      "a\n",
      "s\n",
      "i\n",
      "c\n"
     ]
    }
   ],
   "source": [
    "for i in \"basic\":\n",
    "    print(i)"
   ]
  },
  {
   "cell_type": "code",
   "execution_count": null,
   "id": "0595a4ca",
   "metadata": {},
   "outputs": [],
   "source": []
  }
 ],
 "metadata": {
  "kernelspec": {
   "display_name": "Python 3 (ipykernel)",
   "language": "python",
   "name": "python3"
  },
  "language_info": {
   "codemirror_mode": {
    "name": "ipython",
    "version": 3
   },
   "file_extension": ".py",
   "mimetype": "text/x-python",
   "name": "python",
   "nbconvert_exporter": "python",
   "pygments_lexer": "ipython3",
   "version": "3.10.6"
  }
 },
 "nbformat": 4,
 "nbformat_minor": 5
}
