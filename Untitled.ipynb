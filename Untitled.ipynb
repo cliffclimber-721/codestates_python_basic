{
 "cells": [
  {
   "cell_type": "markdown",
   "id": "47782529",
   "metadata": {},
   "source": [
    "# 1-4 advanced 과제"
   ]
  },
  {
   "cell_type": "markdown",
   "id": "cf1633dc",
   "metadata": {},
   "source": [
    "### Aligned String\n",
    "형식은 \"{[파라미터의 자리숫자]:[채울문자열][채울 공간의 크기][출력할 데이터의 타입]}\"\n",
    "이런 식으로 되어있다고 한다."
   ]
  },
  {
   "cell_type": "code",
   "execution_count": 1,
   "id": "b31f45a6",
   "metadata": {},
   "outputs": [
    {
     "name": "stdout",
     "output_type": "stream",
     "text": [
      "  1\n",
      " 10\n",
      "100\n"
     ]
    }
   ],
   "source": [
    "print('{0:3d}'.format(1))\n",
    "print('{0:3d}'.format(10))\n",
    "print('{0:3d}'.format(100))"
   ]
  },
  {
   "cell_type": "markdown",
   "id": "64d89a80",
   "metadata": {},
   "source": [
    "### [Q1] 그럼 다음 모양을 출력해볼까요?"
   ]
  },
  {
   "cell_type": "code",
   "execution_count": 2,
   "id": "d565847d",
   "metadata": {},
   "outputs": [
    {
     "name": "stdout",
     "output_type": "stream",
     "text": [
      "*\n",
      "**\n",
      "***\n"
     ]
    }
   ],
   "source": [
    "print(\"*\")\n",
    "print(\"**\")\n",
    "print(\"***\")"
   ]
  },
  {
   "cell_type": "code",
   "execution_count": 8,
   "id": "952169c8",
   "metadata": {},
   "outputs": [
    {
     "name": "stdout",
     "output_type": "stream",
     "text": [
      "*\n",
      "**\n",
      "***\n"
     ]
    }
   ],
   "source": [
    "for i in range(3):\n",
    "    print(\"*\" * (i+1))"
   ]
  },
  {
   "cell_type": "markdown",
   "id": "72247016",
   "metadata": {},
   "source": [
    "### [Q2] 가운데 정렬을 이용하여 이등변 삼각형 모양의 별을 출력해주세요."
   ]
  },
  {
   "cell_type": "code",
   "execution_count": 18,
   "id": "f1ad2ca3",
   "metadata": {},
   "outputs": [
    {
     "name": "stdout",
     "output_type": "stream",
     "text": [
      "  *  \n",
      " * * \n",
      "* * *\n"
     ]
    }
   ],
   "source": [
    "print('{0:^5s}'.format('*'))\n",
    "print('{0:^5s}'.format('* *'))\n",
    "print('{0:^5s}'.format('* * *'))"
   ]
  },
  {
   "cell_type": "markdown",
   "id": "86fd339c",
   "metadata": {},
   "source": [
    "### [Q3] 트리장식 정보를 다음과 같이 출력해주세요."
   ]
  },
  {
   "cell_type": "code",
   "execution_count": 29,
   "id": "286ef3bd",
   "metadata": {},
   "outputs": [],
   "source": [
    "smallstart_price = \"{0:05.02f}\".format(2.35)"
   ]
  },
  {
   "cell_type": "code",
   "execution_count": 32,
   "id": "a3e6e16c",
   "metadata": {},
   "outputs": [
    {
     "name": "stdout",
     "output_type": "stream",
     "text": [
      "name            price\n",
      "big star        41.36\n",
      "small start     02.35\n",
      "twinkle bulb    87.76\n"
     ]
    }
   ],
   "source": [
    "print(\"name            price\")\n",
    "print(\"big star        41.36\")\n",
    "print(\"small start    \", smallstart_price)\n",
    "print(\"twinkle bulb    87.76\")"
   ]
  },
  {
   "cell_type": "code",
   "execution_count": null,
   "id": "52bacbee",
   "metadata": {},
   "outputs": [],
   "source": []
  }
 ],
 "metadata": {
  "kernelspec": {
   "display_name": "Python 3 (ipykernel)",
   "language": "python",
   "name": "python3"
  },
  "language_info": {
   "codemirror_mode": {
    "name": "ipython",
    "version": 3
   },
   "file_extension": ".py",
   "mimetype": "text/x-python",
   "name": "python",
   "nbconvert_exporter": "python",
   "pygments_lexer": "ipython3",
   "version": "3.10.6"
  }
 },
 "nbformat": 4,
 "nbformat_minor": 5
}
