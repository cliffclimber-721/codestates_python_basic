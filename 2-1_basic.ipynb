{
 "cells": [
  {
   "cell_type": "markdown",
   "id": "82785c02",
   "metadata": {},
   "source": [
    "# 2-1 basic 과제"
   ]
  },
  {
   "cell_type": "markdown",
   "id": "84f0cf3b",
   "metadata": {},
   "source": [
    "## 사전 정의 데이터"
   ]
  },
  {
   "cell_type": "code",
   "execution_count": 1,
   "id": "14f8b51e",
   "metadata": {},
   "outputs": [],
   "source": [
    "members = [\n",
    "    {\n",
    "        '성': '김',\n",
    "        '이름': '이팝',\n",
    "        '소속': '나무팀',\n",
    "        '국적': '대한민국',\n",
    "        '나이': 40,\n",
    "    },\n",
    "    {\n",
    "        '성': '김',\n",
    "        '이름': '단풍',\n",
    "        '소속': '나무팀',\n",
    "        '국적': '대한민국',\n",
    "        '나이': 29,\n",
    "    },\n",
    "    {\n",
    "        '성': '이',\n",
    "        '이름': '버들',\n",
    "        '소속': '나무팀',\n",
    "        '국적': '대한민국',\n",
    "        '나이': 34,\n",
    "    },\n",
    "    {\n",
    "        '성': '박',\n",
    "        '이름': '바오밥',\n",
    "        '소속': '나무팀',\n",
    "        '국적': '대한민국',\n",
    "        '나이': 27,\n",
    "    },\n",
    "    {\n",
    "        '성': 'May',\n",
    "        '이름': 'Blossom',\n",
    "        '소속': '나무팀',\n",
    "        '국적': '미국',\n",
    "        '나이': 28,\n",
    "    },\n",
    "    {\n",
    "        '성': '김',\n",
    "        '이름': '샤프란',\n",
    "        '소속': '꽃팀',\n",
    "        '국적': '대한민국',\n",
    "        '나이': 42,\n",
    "    },\n",
    "    {\n",
    "        '성': '김',\n",
    "        '이름': '튤립',\n",
    "        '소속': '꽃팀',\n",
    "        '국적': '대한민국',\n",
    "        '나이': 37,\n",
    "    },\n",
    "    {\n",
    "        '성': '박',\n",
    "        '이름': '수선화',\n",
    "        '소속': '꽃팀',\n",
    "        '국적': '대한민국',\n",
    "        '나이': 33,\n",
    "    },\n",
    "    {\n",
    "        '성': '박',\n",
    "        '이름': '앵초',\n",
    "        '소속': '꽃팀',\n",
    "        '국적': '대한민국',\n",
    "        '나이': 28,\n",
    "    },\n",
    "    {\n",
    "        '성': 'Sharon',\n",
    "        '이름': 'Rose',\n",
    "        '소속': '꽃팀',\n",
    "        '국적': '미국',\n",
    "        '나이': 23,\n",
    "    },\n",
    "]"
   ]
  },
  {
   "cell_type": "markdown",
   "id": "8fbf66d0",
   "metadata": {},
   "source": [
    "### [Q1] if-elif-else 를 이용해서 김튤립 사원의 나이가 May Blossom 사원보다 많은지 적은지 출력해주세요."
   ]
  },
  {
   "cell_type": "code",
   "execution_count": 18,
   "id": "67feed45",
   "metadata": {},
   "outputs": [
    {
     "name": "stdout",
     "output_type": "stream",
     "text": [
      "28\n",
      "37\n"
     ]
    }
   ],
   "source": [
    "may = members[4][\"나이\"]\n",
    "tulip = members[6][\"나이\"]\n",
    "print(may)\n",
    "print(tulip)"
   ]
  },
  {
   "cell_type": "code",
   "execution_count": 36,
   "id": "50f6b5d3",
   "metadata": {},
   "outputs": [
    {
     "name": "stdout",
     "output_type": "stream",
     "text": [
      "May Blossom 사원은 김튤립 사원보다 나이가 적습니다.\n"
     ]
    }
   ],
   "source": [
    "if may < tulip:\n",
    "    print(\"May Blossom 사원은 김튤립 사원보다 나이가 적습니다.\")\n",
    "elif may > tulip:\n",
    "    print(\"May Blossom 사원은 김튤립 사원보다 나이가 많습니다.\")\n",
    "else:\n",
    "    print(\"May Blossom 사원은 김튤립 사원과 나이가 같습니다.\")"
   ]
  },
  {
   "cell_type": "markdown",
   "id": "24879eec",
   "metadata": {},
   "source": [
    "### [Q2] Q1에서 작성한 조건문을 변수를 사용하도록 바꿔주세요."
   ]
  },
  {
   "cell_type": "code",
   "execution_count": 37,
   "id": "e475dc50",
   "metadata": {},
   "outputs": [],
   "source": [
    "standard_member = members[4]\n",
    "member_to_compare = members[6]"
   ]
  },
  {
   "cell_type": "code",
   "execution_count": 38,
   "id": "fcd8a1cc",
   "metadata": {},
   "outputs": [
    {
     "name": "stdout",
     "output_type": "stream",
     "text": [
      "Blossom사원은 튤립보다 나이가 적습니다.\n"
     ]
    }
   ],
   "source": [
    "if standard_member[\"나이\"] < member_to_compare[\"나이\"]:\n",
    "    print(f\"{standard_member['이름']}사원은 {member_to_compare['이름']}보다 나이가 적습니다.\")\n",
    "elif standard_member[\"나이\"] > member_to_compare[\"나이\"]:\n",
    "    print(f\"{standard_member['이름']}사원은 {member_to_compare['이름']}보다 나이가 많습니다.\")\n",
    "else:\n",
    "    print(f\"{standard_member['이름']}사원은 {member_to_compare['이름']}과 나이가 같습니다.\")"
   ]
  },
  {
   "cell_type": "markdown",
   "id": "91677db3",
   "metadata": {},
   "source": [
    "### [Q3] Q2에서 작성한 코드를 사용하여 elif 조건과 else 조건에 해당하는 사원이 나올 수 있도록, standard_member와 member_to_compare변수에 다른 사원을 할당해주세요. "
   ]
  },
  {
   "cell_type": "markdown",
   "id": "3b3a6f55",
   "metadata": {},
   "source": [
    "#### [Q3-1] elif 조건인 ~나이가 많습니다 가 나올 수 있도록 변경"
   ]
  },
  {
   "cell_type": "code",
   "execution_count": 39,
   "id": "d22200bf",
   "metadata": {},
   "outputs": [],
   "source": [
    "standard_member = members[6]\n",
    "member_to_compare = members[4]"
   ]
  },
  {
   "cell_type": "code",
   "execution_count": 40,
   "id": "52a19210",
   "metadata": {},
   "outputs": [
    {
     "name": "stdout",
     "output_type": "stream",
     "text": [
      "김튤립 사원은 MayBlossom보다 나이가 많습니다.\n"
     ]
    }
   ],
   "source": [
    "if standard_member[\"나이\"] < member_to_compare[\"나이\"]:\n",
    "    print(f\"{standard_member['성']}{standard_member['이름']} 사원은 {member_to_compare['성']}{member_to_compare['이름']}보다 나이가 적습니다.\")\n",
    "elif standard_member[\"나이\"] > member_to_compare[\"나이\"]:\n",
    "    print(f\"{standard_member['성']}{standard_member['이름']} 사원은 {member_to_compare['성']}{member_to_compare['이름']}보다 나이가 많습니다.\")\n",
    "else:\n",
    "    print(f\"{standard_member['성']}{standard_member['이름']} 사원은 {member_to_compare['성']}{member_to_compare['이름']}과 나이가 같습니다.\")"
   ]
  },
  {
   "cell_type": "markdown",
   "id": "d73d1996",
   "metadata": {},
   "source": [
    "#### [Q3-2] else 조건인 ~나이가 같습니다. 가 나올 수 있도록 변경"
   ]
  },
  {
   "cell_type": "code",
   "execution_count": 42,
   "id": "006feacd",
   "metadata": {},
   "outputs": [],
   "source": [
    "standard_member = members[4]\n",
    "member_to_compare = members[8]"
   ]
  },
  {
   "cell_type": "code",
   "execution_count": 43,
   "id": "7472fd6b",
   "metadata": {},
   "outputs": [
    {
     "name": "stdout",
     "output_type": "stream",
     "text": [
      "MayBlossom 사원은 박앵초과 나이가 같습니다.\n"
     ]
    }
   ],
   "source": [
    "if standard_member[\"나이\"] < member_to_compare[\"나이\"]:\n",
    "    print(f\"{standard_member['성']}{standard_member['이름']} 사원은 {member_to_compare['성']}{member_to_compare['이름']}보다 나이가 적습니다.\")\n",
    "elif standard_member[\"나이\"] > member_to_compare[\"나이\"]:\n",
    "    print(f\"{standard_member['성']}{standard_member['이름']} 사원은 {member_to_compare['성']}{member_to_compare['이름']}보다 나이가 많습니다.\")\n",
    "else:\n",
    "    print(f\"{standard_member['성']}{standard_member['이름']} 사원은 {member_to_compare['성']}{member_to_compare['이름']}과 나이가 같습니다.\")"
   ]
  }
 ],
 "metadata": {
  "kernelspec": {
   "display_name": "Python 3 (ipykernel)",
   "language": "python",
   "name": "python3"
  },
  "language_info": {
   "codemirror_mode": {
    "name": "ipython",
    "version": 3
   },
   "file_extension": ".py",
   "mimetype": "text/x-python",
   "name": "python",
   "nbconvert_exporter": "python",
   "pygments_lexer": "ipython3",
   "version": "3.10.6"
  }
 },
 "nbformat": 4,
 "nbformat_minor": 5
}
